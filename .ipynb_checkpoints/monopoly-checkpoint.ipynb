{
 "cells": [
  {
   "cell_type": "code",
   "execution_count": 1,
   "id": "anticipated-verse",
   "metadata": {},
   "outputs": [],
   "source": [
    "from Player import Player\n",
    "from tabuleiro import tabuleiro\n",
    "from propriedades import propriedades"
   ]
  },
  {
   "cell_type": "code",
   "execution_count": 4,
   "id": "changed-receiver",
   "metadata": {},
   "outputs": [
    {
     "data": {
      "text/plain": [
       "<function tabuleiro.stop_propriedade(player_name, name)>"
      ]
     },
     "execution_count": 4,
     "metadata": {},
     "output_type": "execute_result"
    }
   ],
   "source": [
    "tabuleiro['3']('')"
   ]
  },
  {
   "cell_type": "code",
   "execution_count": 5,
   "id": "competent-retrieval",
   "metadata": {},
   "outputs": [],
   "source": [
    "g = Player()\n",
    "j = Player()"
   ]
  },
  {
   "cell_type": "code",
   "execution_count": null,
   "id": "israeli-cemetery",
   "metadata": {},
   "outputs": [],
   "source": []
  },
  {
   "cell_type": "code",
   "execution_count": 6,
   "id": "unknown-interest",
   "metadata": {},
   "outputs": [
    {
     "data": {
      "text/plain": [
       "{'ballon stand': {'owner': None, 'price': 1, 'pay': 1},\n",
       " 'corron stand': {'owner': None, 'price': 1, 'pay': 1},\n",
       " 'puppet show': {'owner': None, 'price': 2, 'pay': 2},\n",
       " 'magic show': {'owner': None, 'price': 2, 'pay': 2},\n",
       " 'merry-go round': {'owner': None, 'price': 2, 'pay': 2},\n",
       " 'paddle boats': {'owner': None, 'price': 2, 'pay': 2},\n",
       " 'water slide': {'owner': None, 'price': 3, 'pay': 3},\n",
       " 'mini golf': {'owner': None, 'price': 3, 'pay': 3},\n",
       " 'video arcade': {'owner': None, 'price': 3, 'pay': 3},\n",
       " 'haunted house': {'owner': None, 'price': 3, 'pay': 3},\n",
       " 'helicopter ride': {'owner': None, 'price': 4, 'pay': 4},\n",
       " 'pony ride': {'owner': None, 'price': 4, 'pay': 4},\n",
       " 'bumber cars': {'owner': None, 'price': 4, 'pay': 4},\n",
       " 'ferris wheel': {'owner': None, 'price': 4, 'pay': 4},\n",
       " 'loop the loop': {'owner': None, 'price': 5, 'pay': 5},\n",
       " 'roller coaster': {'owner': None, 'price': 5, 'pay': 5}}"
      ]
     },
     "execution_count": 6,
     "metadata": {},
     "output_type": "execute_result"
    }
   ],
   "source": [
    "propriedades"
   ]
  },
  {
   "cell_type": "code",
   "execution_count": 17,
   "id": "unique-shell",
   "metadata": {},
   "outputs": [
    {
     "name": "stdout",
     "output_type": "stream",
     "text": [
      "9001\n"
     ]
    }
   ],
   "source": [
    "condition = True\n",
    "i = 0\n",
    "while(condition):\n",
    "#     <RODADA>\n",
    "\n",
    "#     for i in [gabriel, brenda, joao]:\n",
    "#         if i.play_next_round:\n",
    "#         function(player)\n",
    "#             i.roll_dice\n",
    "#             tabuleiro[str(i.position)](i)         \n",
    "        \n",
    "#     <FIM DA RODADA>\n",
    "\n",
    "    i+=1\n",
    "    if i>10_000:\n",
    "        print(i)\n",
    "        break"
   ]
  },
  {
   "cell_type": "code",
   "execution_count": 22,
   "id": "entire-process",
   "metadata": {},
   "outputs": [],
   "source": [
    "gabriel = Player()\n",
    "for i in range(20):\n",
    "    gabriel.roll_dice()"
   ]
  },
  {
   "cell_type": "code",
   "execution_count": 28,
   "id": "veterinary-apache",
   "metadata": {},
   "outputs": [
    {
     "data": {
      "text/plain": [
       "'Player'"
      ]
     },
     "execution_count": 28,
     "metadata": {},
     "output_type": "execute_result"
    }
   ],
   "source": [
    "gabriel.__class__.__name__"
   ]
  }
 ],
 "metadata": {
  "kernelspec": {
   "display_name": "Python 3",
   "language": "python",
   "name": "python3"
  },
  "language_info": {
   "codemirror_mode": {
    "name": "ipython",
    "version": 3
   },
   "file_extension": ".py",
   "mimetype": "text/x-python",
   "name": "python",
   "nbconvert_exporter": "python",
   "pygments_lexer": "ipython3",
   "version": "3.7.10"
  }
 },
 "nbformat": 4,
 "nbformat_minor": 5
}
