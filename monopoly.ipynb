{
 "cells": [
  {
   "cell_type": "code",
   "execution_count": 1,
   "id": "cooked-deployment",
   "metadata": {},
   "outputs": [],
   "source": [
    "from Player import Player\n",
    "from tabuleiro import tabuleiro\n",
    "from propriedades import propriedades"
   ]
  },
  {
   "cell_type": "code",
   "execution_count": 2,
   "id": "fresh-removal",
   "metadata": {},
   "outputs": [],
   "source": [
    "p1 = Player('joao')\n",
    "p2 = Player('gabriel')"
   ]
  },
  {
   "cell_type": "code",
   "execution_count": 3,
   "id": "8b5d6d3e-0e91-4abc-8a94-8cbcc5b4b74f",
   "metadata": {},
   "outputs": [
    {
     "data": {
      "text/plain": [
       "\n",
       "        name:gabriel\n",
       "        money:31\n",
       "        position:1\n",
       "        next round:True"
      ]
     },
     "execution_count": 3,
     "metadata": {},
     "output_type": "execute_result"
    }
   ],
   "source": [
    "p2"
   ]
  },
  {
   "cell_type": "code",
   "execution_count": 4,
   "id": "6a39f02f-8b18-4bfe-a196-3a1acdaa8c1f",
   "metadata": {},
   "outputs": [],
   "source": [
    "player1 = Player('gabriel')\n",
    "player2 = Player('brenda')\n",
    "player3 = Player('joao')"
   ]
  },
  {
   "cell_type": "code",
   "execution_count": 5,
   "id": "e3d4bee4-ebef-4393-b610-b1047e2d5283",
   "metadata": {},
   "outputs": [
    {
     "data": {
      "text/plain": [
       "\n",
       "        name:gabriel\n",
       "        money:31\n",
       "        position:1\n",
       "        next round:True"
      ]
     },
     "execution_count": 5,
     "metadata": {},
     "output_type": "execute_result"
    }
   ],
   "source": [
    "player1"
   ]
  },
  {
   "cell_type": "code",
   "execution_count": 17,
   "id": "latin-copying",
   "metadata": {},
   "outputs": [
    {
     "name": "stdout",
     "output_type": "stream",
     "text": [
      "9001\n"
     ]
    }
   ],
   "source": [
    "condition = True\n",
    "i = 0\n",
    "while(condition):\n",
    "#     <RODADA>\n",
    "#     for i in [gabriel, brenda, joao]:\n",
    "#         if i.play_next_round:\n",
    "#         function(player)\n",
    "#             i.roll_dice\n",
    "#             tabuleiro[str(i.position)](i)\n",
    "#         else:\n",
    "#             i.play_next_round = True\n",
    "#     <FIM DA RODADA>\n",
    "    i+=1\n",
    "    if i>10_000:\n",
    "        print(i)\n",
    "        break"
   ]
  },
  {
   "cell_type": "code",
   "execution_count": 22,
   "id": "muslim-garage",
   "metadata": {},
   "outputs": [],
   "source": [
    "gabriel = Player()\n",
    "for i in range(20):\n",
    "    gabriel.roll_dice()"
   ]
  },
  {
   "cell_type": "code",
   "execution_count": 28,
   "id": "german-village",
   "metadata": {},
   "outputs": [
    {
     "data": {
      "text/plain": [
       "'Player'"
      ]
     },
     "execution_count": 28,
     "metadata": {},
     "output_type": "execute_result"
    }
   ],
   "source": [
    "gabriel.__class__.__name__"
   ]
  }
 ],
 "metadata": {
  "kernelspec": {
   "display_name": "Python 3 (ipykernel)",
   "language": "python",
   "name": "python3"
  },
  "language_info": {
   "codemirror_mode": {
    "name": "ipython",
    "version": 3
   },
   "file_extension": ".py",
   "mimetype": "text/x-python",
   "name": "python",
   "nbconvert_exporter": "python",
   "pygments_lexer": "ipython3",
   "version": "3.9.0"
  }
 },
 "nbformat": 4,
 "nbformat_minor": 5
}
