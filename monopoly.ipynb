{
 "cells": [
  {
   "cell_type": "code",
   "execution_count": 1,
   "id": "christian-zealand",
   "metadata": {},
   "outputs": [],
   "source": [
    "from Player import Player\n",
    "from tabuleiro import tabuleiro\n",
    "from propriedades import propriedades"
   ]
  },
  {
   "cell_type": "code",
   "execution_count": 20,
   "id": "consecutive-quick",
   "metadata": {},
   "outputs": [],
   "source": [
    "import pandas as pd"
   ]
  },
  {
   "cell_type": "code",
   "execution_count": 24,
   "id": "peaceful-helicopter",
   "metadata": {},
   "outputs": [],
   "source": [
    "tabu = pd.DataFrame(propriedades).T"
   ]
  },
  {
   "cell_type": "code",
   "execution_count": 36,
   "id": "comparative-basis",
   "metadata": {},
   "outputs": [
    {
     "name": "stderr",
     "output_type": "stream",
     "text": [
      "/home/joaoholz/miniconda3/envs/monopoly/lib/python3.7/site-packages/ipykernel_launcher.py:1: SettingWithCopyWarning: \n",
      "A value is trying to be set on a copy of a slice from a DataFrame.\n",
      "Try using .loc[row_indexer,col_indexer] = value instead\n",
      "\n",
      "See the caveats in the documentation: https://pandas.pydata.org/pandas-docs/stable/user_guide/indexing.html#returning-a-view-versus-a-copy\n",
      "  \"\"\"Entry point for launching an IPython kernel.\n"
     ]
    }
   ],
   "source": [
    "tabu['player'] = ' '\n",
    "tabu = tabu[['name','player']]"
   ]
  },
  {
   "cell_type": "code",
   "execution_count": 37,
   "id": "substantial-given",
   "metadata": {},
   "outputs": [],
   "source": [
    "tabu.iloc[14].player = player1.player_name"
   ]
  },
  {
   "cell_type": "code",
   "execution_count": 38,
   "id": "assisted-rover",
   "metadata": {},
   "outputs": [],
   "source": [
    "tabu.iloc[10].player = player2.player_name"
   ]
  },
  {
   "cell_type": "code",
   "execution_count": 2,
   "id": "neural-funeral",
   "metadata": {},
   "outputs": [],
   "source": [
    "p1 = Player('joao')\n",
    "p2 = Player('gabriel')"
   ]
  },
  {
   "cell_type": "code",
   "execution_count": 3,
   "id": "french-potter",
   "metadata": {},
   "outputs": [],
   "source": [
    "player1 = Player('gabriel')\n",
    "player2 = Player('brenda')\n",
    "player3 = Player('joao')"
   ]
  },
  {
   "cell_type": "code",
   "execution_count": 4,
   "id": "preliminary-origin",
   "metadata": {},
   "outputs": [],
   "source": [
    "player1.roll_dice()"
   ]
  },
  {
   "cell_type": "code",
   "execution_count": 6,
   "id": "athletic-sacrifice",
   "metadata": {},
   "outputs": [
    {
     "data": {
      "text/plain": [
       "\n",
       "        name:brenda\n",
       "        money:31\n",
       "        position:1\n",
       "        next round:True"
      ]
     },
     "execution_count": 6,
     "metadata": {},
     "output_type": "execute_result"
    }
   ],
   "source": [
    "player2"
   ]
  },
  {
   "cell_type": "code",
   "execution_count": 18,
   "id": "great-visiting",
   "metadata": {},
   "outputs": [],
   "source": [
    "player1.position = 3"
   ]
  },
  {
   "cell_type": "code",
   "execution_count": null,
   "id": "popular-hungary",
   "metadata": {},
   "outputs": [],
   "source": [
    "propriedades[]['owner']"
   ]
  },
  {
   "cell_type": "code",
   "execution_count": 17,
   "id": "antique-headline",
   "metadata": {},
   "outputs": [
    {
     "name": "stdout",
     "output_type": "stream",
     "text": [
      "9001\n"
     ]
    }
   ],
   "source": [
    "condition = True\n",
    "i = 0\n",
    "while(condition):\n",
    "#     <RODADA>\n",
    "#     for i in [gabriel, brenda, joao]:\n",
    "#         if i.play_next_round:\n",
    "#         function(player)\n",
    "#             i.roll_dice\n",
    "#             tabuleiro[str(i.position)](i)\n",
    "#         else:\n",
    "#             i.play_next_round = True\n",
    "#     <FIM DA RODADA>\n",
    "    i+=1\n",
    "    if i>10_000:\n",
    "        print(i)\n",
    "        break"
   ]
  },
  {
   "cell_type": "code",
   "execution_count": 22,
   "id": "cooked-plasma",
   "metadata": {},
   "outputs": [],
   "source": [
    "gabriel = Player()\n",
    "for i in range(20):\n",
    "    gabriel.roll_dice()"
   ]
  },
  {
   "cell_type": "code",
   "execution_count": 28,
   "id": "appropriate-legislature",
   "metadata": {},
   "outputs": [
    {
     "data": {
      "text/plain": [
       "'Player'"
      ]
     },
     "execution_count": 28,
     "metadata": {},
     "output_type": "execute_result"
    }
   ],
   "source": [
    "gabriel.__class__.__name__"
   ]
  }
 ],
 "metadata": {
  "kernelspec": {
   "display_name": "Python 3",
   "language": "python",
   "name": "python3"
  },
  "language_info": {
   "codemirror_mode": {
    "name": "ipython",
    "version": 3
   },
   "file_extension": ".py",
   "mimetype": "text/x-python",
   "name": "python",
   "nbconvert_exporter": "python",
   "pygments_lexer": "ipython3",
   "version": "3.7.10"
  }
 },
 "nbformat": 4,
 "nbformat_minor": 5
}
