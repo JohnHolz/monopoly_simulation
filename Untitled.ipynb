{
 "cells": [
  {
   "cell_type": "code",
   "execution_count": 56,
   "id": "progressive-minimum",
   "metadata": {},
   "outputs": [],
   "source": [
    "import pandas as pd, numpy as np"
   ]
  },
  {
   "cell_type": "code",
   "execution_count": 64,
   "id": "corporate-backing",
   "metadata": {},
   "outputs": [],
   "source": [
    "x = np.identity(3)"
   ]
  },
  {
   "cell_type": "code",
   "execution_count": 66,
   "id": "willing-character",
   "metadata": {},
   "outputs": [
    {
     "data": {
      "text/plain": [
       "array([[1., 0., 0.],\n",
       "       [0., 1., 0.],\n",
       "       [0., 0., 1.]])"
      ]
     },
     "execution_count": 66,
     "metadata": {},
     "output_type": "execute_result"
    }
   ],
   "source": [
    "np.linalg.solve(x,x)"
   ]
  },
  {
   "cell_type": "code",
   "execution_count": 2,
   "id": "alternate-homework",
   "metadata": {},
   "outputs": [],
   "source": [
    "from propriedades import propriedades"
   ]
  },
  {
   "cell_type": "code",
   "execution_count": 7,
   "id": "otherwise-interference",
   "metadata": {},
   "outputs": [],
   "source": [
    "df = pd.DataFrame(propriedades).T"
   ]
  },
  {
   "cell_type": "code",
   "execution_count": 8,
   "id": "adverse-auditor",
   "metadata": {},
   "outputs": [
    {
     "data": {
      "text/plain": [
       "Index(['owner', 'price', 'pay', 'name'], dtype='object')"
      ]
     },
     "execution_count": 8,
     "metadata": {},
     "output_type": "execute_result"
    }
   ],
   "source": [
    "df.columns"
   ]
  },
  {
   "cell_type": "code",
   "execution_count": 40,
   "id": "quarterly-radius",
   "metadata": {},
   "outputs": [
    {
     "data": {
      "text/plain": [
       "'NASHASH'"
      ]
     },
     "execution_count": 40,
     "metadata": {},
     "output_type": "execute_result"
    }
   ],
   "source": [
    "x = 'nashash'\n",
    "x.upper()"
   ]
  },
  {
   "cell_type": "code",
   "execution_count": 52,
   "id": "driven-major",
   "metadata": {},
   "outputs": [],
   "source": [
    "x = pd.DataFrame(pd.date_range( start= '01-01-2020',end= '01-01-2021'),columns=['day'])"
   ]
  },
  {
   "cell_type": "code",
   "execution_count": 61,
   "id": "divine-production",
   "metadata": {},
   "outputs": [
    {
     "data": {
      "text/plain": [
       "day   2020-01-02\n",
       "Name: 1, dtype: datetime64[ns]"
      ]
     },
     "execution_count": 61,
     "metadata": {},
     "output_type": "execute_result"
    }
   ],
   "source": [
    "x.iloc[1]"
   ]
  }
 ],
 "metadata": {
  "kernelspec": {
   "display_name": "Python 3",
   "language": "python",
   "name": "python3"
  },
  "language_info": {
   "codemirror_mode": {
    "name": "ipython",
    "version": 3
   },
   "file_extension": ".py",
   "mimetype": "text/x-python",
   "name": "python",
   "nbconvert_exporter": "python",
   "pygments_lexer": "ipython3",
   "version": "3.7.10"
  }
 },
 "nbformat": 4,
 "nbformat_minor": 5
}
