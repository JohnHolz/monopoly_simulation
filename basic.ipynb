{
 "cells": [
  {
   "cell_type": "code",
   "execution_count": 15,
   "id": "numeric-ballot",
   "metadata": {},
   "outputs": [],
   "source": [
    "a = 1\n",
    "b = 1.5\n",
    "c = True\n",
    "d = False\n",
    "e = [1,2,3]\n",
    "f = 'gabriel'\n",
    "g = {'a':1,'b':2}"
   ]
  },
  {
   "cell_type": "code",
   "execution_count": 79,
   "id": "velvet-sensitivity",
   "metadata": {},
   "outputs": [],
   "source": [
    "test1 = [-1,6,-2,3,5,-7,-7] \n",
    "test2 = [5,-1,-2]"
   ]
  },
  {
   "cell_type": "code",
   "execution_count": 72,
   "id": "inclusive-hamburg",
   "metadata": {},
   "outputs": [],
   "source": [
    "def func(vec):\n",
    "    minimo1 = min(vec)\n",
    "    vec.remove(minimo1)\n",
    "    minimo2 = min(vec)\n",
    "#    min(list(filter(lambda x: x != minimo1, vec)))\n",
    "    soma = abs(minimo1) + abs(minimo2)\n",
    "    return soma"
   ]
  },
  {
   "cell_type": "code",
   "execution_count": 104,
   "id": "binary-element",
   "metadata": {},
   "outputs": [],
   "source": [
    "player = {'nome':'gabriel','casa':30,'money':30}"
   ]
  },
  {
   "cell_type": "code",
   "execution_count": 107,
   "id": "technological-federation",
   "metadata": {},
   "outputs": [],
   "source": [
    "player['casa'] = player['casa'] + 6"
   ]
  },
  {
   "cell_type": "code",
   "execution_count": 109,
   "id": "recognized-degree",
   "metadata": {},
   "outputs": [
    {
     "ename": "AttributeError",
     "evalue": "'dict' object has no attribute 'casa'",
     "output_type": "error",
     "traceback": [
      "\u001b[0;31m---------------------------------------------------------------------------\u001b[0m",
      "\u001b[0;31mAttributeError\u001b[0m                            Traceback (most recent call last)",
      "\u001b[0;32m<ipython-input-109-25c4cba76efa>\u001b[0m in \u001b[0;36m<module>\u001b[0;34m\u001b[0m\n\u001b[0;32m----> 1\u001b[0;31m \u001b[0mplayer\u001b[0m\u001b[0;34m.\u001b[0m\u001b[0mcasa\u001b[0m\u001b[0;34m\u001b[0m\u001b[0;34m\u001b[0m\u001b[0m\n\u001b[0m",
      "\u001b[0;31mAttributeError\u001b[0m: 'dict' object has no attribute 'casa'"
     ]
    }
   ],
   "source": [
    "player.casa"
   ]
  }
 ],
 "metadata": {
  "kernelspec": {
   "display_name": "Python 3",
   "language": "python",
   "name": "python3"
  },
  "language_info": {
   "codemirror_mode": {
    "name": "ipython",
    "version": 3
   },
   "file_extension": ".py",
   "mimetype": "text/x-python",
   "name": "python",
   "nbconvert_exporter": "python",
   "pygments_lexer": "ipython3",
   "version": "3.7.10"
  }
 },
 "nbformat": 4,
 "nbformat_minor": 5
}
