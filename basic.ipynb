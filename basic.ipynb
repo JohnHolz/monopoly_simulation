{
 "cells": [
  {
   "cell_type": "code",
   "execution_count": 51,
   "id": "prospective-impression",
   "metadata": {},
   "outputs": [],
   "source": [
    "a = 5\n",
    "x = 'joao'\n",
    "\n",
    "y = True"
   ]
  },
  {
   "cell_type": "code",
   "execution_count": 25,
   "id": "confident-violence",
   "metadata": {},
   "outputs": [],
   "source": [
    "def function(s:str):\n",
    "    s"
   ]
  },
  {
   "cell_type": "code",
   "execution_count": 57,
   "id": "worth-chick",
   "metadata": {},
   "outputs": [
    {
     "data": {
      "text/plain": [
       "'o'"
      ]
     },
     "execution_count": 57,
     "metadata": {},
     "output_type": "execute_result"
    }
   ],
   "source": [
    "n = 2\n",
    "x[-1:]"
   ]
  },
  {
   "cell_type": "code",
   "execution_count": 56,
   "id": "auburn-ballet",
   "metadata": {},
   "outputs": [
    {
     "data": {
      "text/plain": [
       "'ao'"
      ]
     },
     "execution_count": 56,
     "metadata": {},
     "output_type": "execute_result"
    }
   ],
   "source": [
    "x[n:]"
   ]
  },
  {
   "cell_type": "code",
   "execution_count": 88,
   "id": "funny-fashion",
   "metadata": {},
   "outputs": [
    {
     "name": "stdout",
     "output_type": "stream",
     "text": [
      "breninbrenin\n"
     ]
    }
   ],
   "source": [
    "a = 0\n",
    "x = 'brenin'\n",
    "if a:\n",
    "    print(x)\n",
    "elif(a==2):\n",
    "    print(x*2)\n",
    "else:\n",
    "    print(x*2)    "
   ]
  },
  {
   "cell_type": "code",
   "execution_count": 67,
   "id": "english-ideal",
   "metadata": {},
   "outputs": [],
   "source": [
    "g = {'a':'joao asasasah hashahs haasha hash',\n",
    "     'b':2}"
   ]
  },
  {
   "cell_type": "code",
   "execution_count": 75,
   "id": "fallen-deposit",
   "metadata": {},
   "outputs": [
    {
     "data": {
      "text/plain": [
       "['jo', 'o ', 's', 's', 's', 'h h', 'sh', 'hs h', '', 'sh', ' h', 'sh']"
      ]
     },
     "execution_count": 75,
     "metadata": {},
     "output_type": "execute_result"
    }
   ],
   "source": [
    "g['a'].split('a')"
   ]
  },
  {
   "cell_type": "code",
   "execution_count": 89,
   "id": "terminal-dodge",
   "metadata": {},
   "outputs": [],
   "source": [
    "x = [1,2,3,4]"
   ]
  },
  {
   "cell_type": "code",
   "execution_count": 96,
   "id": "applicable-darkness",
   "metadata": {},
   "outputs": [
    {
     "data": {
      "text/plain": [
       "range(0, 10)"
      ]
     },
     "execution_count": 96,
     "metadata": {},
     "output_type": "execute_result"
    }
   ],
   "source": [
    "range(10)"
   ]
  },
  {
   "cell_type": "code",
   "execution_count": null,
   "id": "acting-cemetery",
   "metadata": {},
   "outputs": [],
   "source": []
  },
  {
   "cell_type": "code",
   "execution_count": 104,
   "id": "better-spread",
   "metadata": {},
   "outputs": [
    {
     "name": "stdout",
     "output_type": "stream",
     "text": [
      "1\n",
      "===\n",
      "3\n",
      "===\n",
      "5\n",
      "===\n",
      "7\n",
      "===\n",
      "9\n",
      "===\n"
     ]
    }
   ],
   "source": [
    "for i in range(10):\n",
    "    if i%2 == 1:\n",
    "        print(i)\n",
    "        print('===')"
   ]
  },
  {
   "cell_type": "code",
   "execution_count": null,
   "id": "downtown-divorce",
   "metadata": {},
   "outputs": [],
   "source": []
  }
 ],
 "metadata": {
  "kernelspec": {
   "display_name": "Python 3",
   "language": "python",
   "name": "python3"
  },
  "language_info": {
   "codemirror_mode": {
    "name": "ipython",
    "version": 3
   },
   "file_extension": ".py",
   "mimetype": "text/x-python",
   "name": "python",
   "nbconvert_exporter": "python",
   "pygments_lexer": "ipython3",
   "version": "3.7.10"
  }
 },
 "nbformat": 4,
 "nbformat_minor": 5
}
